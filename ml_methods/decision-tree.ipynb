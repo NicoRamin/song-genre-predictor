{
 "cells": [
  {
   "cell_type": "code",
   "execution_count": null,
   "metadata": {},
   "outputs": [],
   "source": [
    "import pandas as pd\n",
    "pd.options.display.max_columns = 200\n",
    "\n",
    "songs = pd.read_csv('../data/spotify_simplified.csv', index_col=[0])\n",
    "songs.head()"
   ]
  },
  {
   "cell_type": "markdown",
   "metadata": {},
   "source": [
    "### Fit and evaluate the model"
   ]
  },
  {
   "cell_type": "code",
   "execution_count": null,
   "metadata": {},
   "outputs": [],
   "source": [
    "from sklearn.preprocessing import LabelEncoder\n",
    "from sklearn.tree import DecisionTreeClassifier\n",
    "from sklearn.model_selection import train_test_split\n",
    "from sklearn.metrics import accuracy_score, f1_score\n",
    "\n",
    "\n",
    "songs_data = songs.drop(columns = [\"track_id\", \"artists\", \"album_name\", \"track_name\", \"track_genre\"])\n",
    "genres = songs[\"track_genre\"]\n",
    "# Numerically encode the labels\n",
    "label_encoder = LabelEncoder()\n",
    "encoded_genres = label_encoder.fit_transform(genres)\n",
    "X_train, X_test, y_train, y_test = train_test_split(songs_data, encoded_genres, test_size=0.3, \n",
    "                                                    stratify=encoded_genres, shuffle=True, random_state=100)\n",
    "# Train model\n",
    "decision_tree = DecisionTreeClassifier()\n",
    "decision_tree.fit(X_train, y_train)\n",
    "\n",
    "# Evaluate model\n",
    "predictions = decision_tree.predict(X_test)\n",
    "base_accuracy = accuracy_score(y_test, predictions)\n",
    "base_f1_weighted = f1_score(y_test, predictions, average='weighted')\n",
    "print(\"Baseline performance using a Decision Tree\")\n",
    "print(f\"Accuracy: {base_accuracy}\")\n",
    "print(f\"F1-score: {base_f1_weighted}\")"
   ]
  },
  {
   "cell_type": "markdown",
   "metadata": {},
   "source": [
    "### Experiment by adding authors as features"
   ]
  },
  {
   "cell_type": "code",
   "execution_count": null,
   "metadata": {},
   "outputs": [],
   "source": [
    "from sklearn.preprocessing import LabelEncoder\n",
    "from sklearn.tree import DecisionTreeClassifier\n",
    "from sklearn.model_selection import train_test_split\n",
    "from sklearn.metrics import accuracy_score, f1_score\n",
    "from data_prep import add_authors_as_features \n",
    "\n",
    "songs_data = add_authors_as_features(songs, 2000)\n",
    "songs_data = songs_data.drop(columns = [\"track_id\", \"artists\", \"album_name\", \"track_name\", \"track_genre\"])\n",
    "genres = songs[\"track_genre\"]\n",
    "# Numerically encode the labels\n",
    "label_encoder = LabelEncoder()\n",
    "encoded_genres = label_encoder.fit_transform(genres)\n",
    "# Using stratify might help because we have an imbalanced dataset\n",
    "X_train, X_test, y_train, y_test = train_test_split(songs_data, encoded_genres, test_size=0.3, \n",
    "                                                    stratify=encoded_genres, shuffle=True, random_state=100)\n",
    "# Train model\n",
    "decision_tree = DecisionTreeClassifier()\n",
    "decision_tree.fit(X_train, y_train)\n",
    "# Evaluate model\n",
    "predictions = decision_tree.predict(X_test)\n",
    "base_accuracy = accuracy_score(y_test, predictions)\n",
    "base_f1_weighted = f1_score(y_test, predictions, average='weighted')\n",
    "print(\"Baseline performance using a Decision Tree\")\n",
    "print(f\"Accuracy: {base_accuracy}\")\n",
    "print(f\"F1-score: {base_f1_weighted}\")"
   ]
  },
  {
   "cell_type": "markdown",
   "metadata": {},
   "source": [
    "### Get more insights in the performance of each class"
   ]
  },
  {
   "cell_type": "code",
   "execution_count": null,
   "metadata": {},
   "outputs": [],
   "source": [
    "def generate_predicitons_df(y_test, predictions, class_names):\n",
    "    # Get more detailed performance information for each class\n",
    "    f1 = f1_score(y_test, predictions, average=None)\n",
    "    class_to_f1 = dict(zip(class_names, f1))\n",
    "    # Sort f1-score in descending order\n",
    "    class_to_f1 = dict(sorted(class_to_f1.items(), key=lambda item: item[1], reverse=True))\n",
    "    grouped_by_genre = songs.groupby(['track_genre']).size()\n",
    "    genre_count = grouped_by_genre.sort_values(ascending=False)\n",
    "    count = list()\n",
    "    for genre in class_to_f1.keys():\n",
    "        count.append(genre_count[genre])\n",
    "    predictions_df = pd.DataFrame([], columns=['genre', 'f1-score', 'count'])\n",
    "    predictions_df['genre'] = class_to_f1.keys()\n",
    "    predictions_df['f1-score'] = class_to_f1.values()\n",
    "    predictions_df['count'] = count\n",
    "    return predictions_df\n",
    "\n",
    "predictions_df = generate_predicitons_df(y_test, predictions, label_encoder.classes_)\n",
    "display(predictions_df)"
   ]
  },
  {
   "cell_type": "code",
   "execution_count": null,
   "metadata": {},
   "outputs": [],
   "source": [
    "from sklearn.metrics import confusion_matrix\n",
    "import matplotlib.pyplot as plt\n",
    "import seaborn as sns\n",
    "\n",
    "def plot_confusion_matrix(conf_matrix, class_names):\n",
    "    cm_df = pd.DataFrame(conf_matrix, index=class_names, columns=class_names)\n",
    "    heatmap = sns.heatmap(cm_df, annot=True, fmt='d', annot_kws={\"size\": 12})\n",
    "    heatmap.set(xlabel='Predicted class', ylabel='True class')\n",
    "    return heatmap\n",
    "\n",
    "cm = confusion_matrix(y_test, predictions)\n",
    "heatmap = plot_confusion_matrix(cm, label_encoder.classes_)\n",
    "plt.rcParams['figure.figsize'] = [15, 15]\n",
    "plt.show()"
   ]
  },
  {
   "cell_type": "markdown",
   "metadata": {},
   "source": [
    "## Experiment #1: Balancing\n",
    "* Try to overcome the class imbalance problem by using under or over sampling\n",
    "\n",
    "### Undersampling"
   ]
  },
  {
   "cell_type": "code",
   "execution_count": null,
   "metadata": {},
   "outputs": [],
   "source": [
    "from imblearn.pipeline import Pipeline\n",
    "from imblearn.under_sampling import RandomUnderSampler\n",
    "from imblearn.over_sampling import RandomOverSampler\n",
    "from sklearn.model_selection import StratifiedKFold, cross_val_predict\n",
    "\n",
    "cv = StratifiedKFold(n_splits=5, shuffle=True, random_state=100)\n",
    "sampler = RandomUnderSampler()\n",
    "pipeline = Pipeline([('balancing', sampler), ('classifier', decision_tree)])\n",
    "# predictions = cross_val_predict(pipeline, songs_data, encoded_genres, cv=cv, n_jobs=-1)\n",
    "pipeline.fit(X_train, y_train)\n",
    "predictions = pipeline.predict(X_test)\n",
    "accuracy = accuracy_score(y_test, predictions)\n",
    "f1_weighted = f1_score(y_test, predictions, average='weighted')\n",
    "print(f\"Accuracy: {accuracy:.4f}\")\n",
    "print(f\"F1: {f1_weighted:.4f}\")"
   ]
  },
  {
   "cell_type": "markdown",
   "metadata": {},
   "source": [
    "### Oversampling"
   ]
  },
  {
   "cell_type": "code",
   "execution_count": null,
   "metadata": {},
   "outputs": [],
   "source": [
    "pipeline.named_steps['balancing'] = RandomOverSampler()\n",
    "pipeline.fit(X_train, y_train)\n",
    "predictions = pipeline.predict(X_test)\n",
    "accuracy = accuracy_score(y_test, predictions)\n",
    "f1_weighted = f1_score(y_test, predictions, average='weighted')\n",
    "# predictions = cross_val_predict(pipeline, songs_data_modified, encoded_genres, cv=cv, n_jobs=-1)\n",
    "# accuracy = accuracy_score(encoded_genres, predictions)\n",
    "# f1_weighted = f1_score(encoded_genres, predictions, average='weighted')\n",
    "print(f\"Accuracy: {accuracy:.4f}\")\n",
    "print(f\"F1: {f1_weighted:.4f}\")"
   ]
  },
  {
   "cell_type": "markdown",
   "metadata": {},
   "source": [
    "### Experiment \\#1 conclusion:\n",
    "_Under and over sampling hinder the performace of the decision tree_"
   ]
  }
 ],
 "metadata": {
  "kernelspec": {
   "display_name": "Python 3",
   "language": "python",
   "name": "python3"
  },
  "language_info": {
   "codemirror_mode": {
    "name": "ipython",
    "version": 3
   },
   "file_extension": ".py",
   "mimetype": "text/x-python",
   "name": "python",
   "nbconvert_exporter": "python",
   "pygments_lexer": "ipython3",
   "version": "3.10.12"
  }
 },
 "nbformat": 4,
 "nbformat_minor": 2
}
