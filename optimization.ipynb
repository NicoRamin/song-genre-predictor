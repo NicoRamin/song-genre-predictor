{
 "cells": [
  {
   "cell_type": "code",
   "execution_count": 1,
   "metadata": {},
   "outputs": [],
   "source": [
    "# https://towardsdatascience.com/tune-your-scikit-learn-model-using-evolutionary-algorithms-30538248ac16\n",
    "from sklearn.tree import DecisionTreeClassifier\n",
    "from sklearn.preprocessing import LabelEncoder\n",
    "from sklearn.model_selection import train_test_split\n",
    "import pandas as pd\n",
    "\n",
    "\n",
    "songs = pd.read_csv('data/spotify_simplified.csv', index_col=[0])\n",
    "songs_data = songs.drop(columns = [\"track_id\", \"artists\", \"album_name\", \"track_name\", \"track_genre\"])\n",
    "genres = songs[\"track_genre\"]\n",
    "# Numerically encode the labels\n",
    "label_encoder = LabelEncoder()\n",
    "encoded_genres = label_encoder.fit_transform(genres)\n",
    "X_train, X_test, y_train, y_test = train_test_split(songs_data, encoded_genres, test_size=0.3, \n",
    "                                                    stratify=encoded_genres, shuffle=True, random_state=100)\n",
    "\n",
    "clf = DecisionTreeClassifier()"
   ]
  },
  {
   "cell_type": "code",
   "execution_count": 6,
   "metadata": {},
   "outputs": [],
   "source": [
    "from sklearn_genetic import GASearchCV\n",
    "from sklearn_genetic.space import Continuous, Categorical, Integer\n",
    "from sklearn_genetic.plots import plot_fitness_evolution, plot_search_space\n",
    "from sklearn.model_selection import StratifiedKFold\n",
    "import matplotlib.pyplot as plt\n",
    "\n",
    "param_grid = {'max_depth': Integer(40, 100), \n",
    "              'min_samples_leaf': Integer(1, 100), \n",
    "              'min_samples_split': Integer(2, 100)}\n",
    "\n",
    "cv = StratifiedKFold(n_splits=5, shuffle=True)\n",
    "\n",
    "evolved_estimator = GASearchCV(estimator=clf,\n",
    "                               cv=cv,\n",
    "                               scoring='f1_weighted',\n",
    "                               population_size=20,\n",
    "                               generations=35,\n",
    "                               tournament_size=3,\n",
    "                               elitism=True,\n",
    "                               crossover_probability=0.8,\n",
    "                               mutation_probability=0.1,\n",
    "                               param_grid=param_grid,\n",
    "                               criteria='max',\n",
    "                               algorithm='eaMuPlusLambda',\n",
    "                               n_jobs=-1,\n",
    "                               verbose=True,\n",
    "                               keep_top_k=4)"
   ]
  },
  {
   "cell_type": "code",
   "execution_count": 7,
   "metadata": {},
   "outputs": [
    {
     "name": "stdout",
     "output_type": "stream",
     "text": [
      "gen\tnevals\tfitness \tfitness_std\tfitness_max\tfitness_min\n",
      "0  \t10    \t0.173386\t0.00497263 \t0.181858   \t0.162708   \n",
      "1  \t18    \t0.175371\t0.00187431 \t0.178521   \t0.172349   \n",
      "2  \t20    \t0.177237\t0.00163904 \t0.18124    \t0.174779   \n",
      "3  \t19    \t0.178123\t0.00115351 \t0.18124    \t0.17713    \n",
      "4  \t19    \t0.178089\t0.00115678 \t0.181239   \t0.177296   \n",
      "5  \t19    \t0.177299\t0.00209411 \t0.181239   \t0.173803   \n",
      "6  \t20    \t0.181329\t0.00383453 \t0.18521    \t0.173803   \n",
      "7  \t18    \t0.183335\t0.0030876  \t0.18521    \t0.177148   \n",
      "8  \t19    \t0.179817\t0.00392387 \t0.18521    \t0.175257   \n",
      "9  \t18    \t0.180123\t0.0043017  \t0.18521    \t0.175257   \n",
      "10 \t17    \t0.18091 \t0.00435129 \t0.18521    \t0.175196   \n",
      "11 \t20    \t0.18038 \t0.00400664 \t0.18521    \t0.17521    \n",
      "12 \t17    \t0.179495\t0.00379569 \t0.18521    \t0.17521    \n",
      "13 \t18    \t0.180983\t0.00398169 \t0.18521    \t0.175654   \n",
      "14 \t15    \t0.180866\t0.00437531 \t0.18521    \t0.175102   \n",
      "15 \t18    \t0.180074\t0.0042227  \t0.18521    \t0.175357   \n",
      "16 \t17    \t0.181361\t0.00514996 \t0.18521    \t0.171967   \n",
      "17 \t19    \t0.181154\t0.0043116  \t0.18521    \t0.174965   \n",
      "18 \t17    \t0.180887\t0.00374226 \t0.18521    \t0.175606   \n",
      "19 \t18    \t0.18185 \t0.00348351 \t0.18521    \t0.176803   \n",
      "20 \t18    \t0.180519\t0.0040199  \t0.18521    \t0.175564   \n",
      "21 \t18    \t0.181153\t0.00420166 \t0.18521    \t0.174978   \n",
      "22 \t17    \t0.181469\t0.00375524 \t0.18521    \t0.17681    \n",
      "23 \t18    \t0.18103 \t0.0051278  \t0.18521    \t0.174083   \n",
      "24 \t18    \t0.179015\t0.00409531 \t0.18521    \t0.175339   \n",
      "25 \t16    \t0.178772\t0.00430904 \t0.18521    \t0.174019   \n",
      "26 \t18    \t0.178512\t0.00451765 \t0.18521    \t0.174019   \n",
      "27 \t18    \t0.1806  \t0.00438242 \t0.18521    \t0.174906   \n",
      "28 \t17    \t0.181744\t0.00371476 \t0.18521    \t0.177005   \n",
      "29 \t20    \t0.182224\t0.00338353 \t0.18521    \t0.177001   \n",
      "30 \t17    \t0.182291\t0.00424983 \t0.18521    \t0.173846   \n",
      "31 \t18    \t0.181805\t0.00418031 \t0.18521    \t0.175938   \n",
      "32 \t19    \t0.182411\t0.00427554 \t0.18521    \t0.175765   \n",
      "33 \t20    \t0.18224 \t0.00454203 \t0.18521    \t0.174999   \n",
      "34 \t18    \t0.183361\t0.00370027 \t0.18521    \t0.1756     \n",
      "35 \t16    \t0.184124\t0.00325605 \t0.18521    \t0.174356   \n"
     ]
    },
    {
     "data": {
      "text/plain": [
       "0.17657745933756377"
      ]
     },
     "execution_count": 7,
     "metadata": {},
     "output_type": "execute_result"
    }
   ],
   "source": [
    "from sklearn.metrics import f1_score\n",
    "\n",
    "evolved_estimator.fit(X_train,y_train)\n",
    "y_predicy_ga = evolved_estimator.predict(X_test)\n",
    "f1_score(y_test,y_predicy_ga, average='weighted')"
   ]
  }
 ],
 "metadata": {
  "kernelspec": {
   "display_name": "ml",
   "language": "python",
   "name": "python3"
  },
  "language_info": {
   "codemirror_mode": {
    "name": "ipython",
    "version": 3
   },
   "file_extension": ".py",
   "mimetype": "text/x-python",
   "name": "python",
   "nbconvert_exporter": "python",
   "pygments_lexer": "ipython3",
   "version": "3.10.12"
  }
 },
 "nbformat": 4,
 "nbformat_minor": 2
}
